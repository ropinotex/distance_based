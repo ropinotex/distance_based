{
 "cells": [
  {
   "cell_type": "code",
   "execution_count": null,
   "id": "f5962d4e",
   "metadata": {},
   "outputs": [],
   "source": [
    "# Import the data and the optimization function (optimal_location)\n",
    "# Press shift + enter in each cell to run the commands\n",
    "\n",
    "from warehouse_network_optimization import warehouses, customers, customer_demands, distance, optimal_location, print_dict"
   ]
  },
  {
   "cell_type": "code",
   "execution_count": null,
   "id": "83d40124",
   "metadata": {},
   "outputs": [],
   "source": [
    "# Get the optmimal location of num_warehouses warehouses\n",
    "# You can change the value of parameter num_warehouses to test different scenario\n",
    "# By setting the parameter plot to True, the function returns a simplyfied picture of the solution\n",
    "# along with a summary of the performance. \n",
    "# If you don't want the picture, set plot to False.\n",
    "# Outflow in the results represents the quantity exiting from each warehouse.\n",
    "\n",
    "results = optimal_location(num_warehouses=1,\n",
    "                           plot=False)"
   ]
  },
  {
   "cell_type": "code",
   "execution_count": null,
   "id": "2f04c665",
   "metadata": {},
   "outputs": [],
   "source": [
    "# By adding the parameter distance_ranges the functions returns the % of the demand\n",
    "# within the passed distance ranges. For example, if distance_ranges = [0, 100, 200]\n",
    "# the functions return the percentage of demand in the ranges [0, 100], (100, 200], (200, 99999]\n",
    "# where 99999 is used to represent a very long distance (i.e. infinite distance).\n",
    "# By changing the parameter num_warehouses and distance_ranges you can test different scenarios.\n",
    "# The parameter distance_ranges must be a list of increasing numbers. If you do not pass 0 as the first value\n",
    "# it will be automatically added\n",
    "\n",
    "results = optimal_location(num_warehouses=3,\n",
    "                           distance_ranges=[100, 200],\n",
    "                           plot=True)"
   ]
  },
  {
   "cell_type": "code",
   "execution_count": null,
   "id": "c680089a",
   "metadata": {},
   "outputs": [],
   "source": [
    "# The results variable contains a summary of the optimization report\n",
    "\n",
    "print(results)"
   ]
  },
  {
   "cell_type": "code",
   "execution_count": null,
   "id": "3e0b2d0d",
   "metadata": {},
   "outputs": [],
   "source": [
    "# For a slightly better visualization of the results use print_dict as follows\n",
    "\n",
    "print_dict(results)"
   ]
  },
  {
   "cell_type": "code",
   "execution_count": null,
   "id": "2cd09eb9",
   "metadata": {},
   "outputs": [],
   "source": []
  },
  {
   "cell_type": "code",
   "execution_count": null,
   "id": "ef0d45ca",
   "metadata": {},
   "outputs": [],
   "source": []
  }
 ],
 "metadata": {
  "kernelspec": {
   "display_name": "Python 3 (ipykernel)",
   "language": "python",
   "name": "python3"
  },
  "language_info": {
   "codemirror_mode": {
    "name": "ipython",
    "version": 3
   },
   "file_extension": ".py",
   "mimetype": "text/x-python",
   "name": "python",
   "nbconvert_exporter": "python",
   "pygments_lexer": "ipython3",
   "version": "3.8.10"
  }
 },
 "nbformat": 4,
 "nbformat_minor": 5
}
